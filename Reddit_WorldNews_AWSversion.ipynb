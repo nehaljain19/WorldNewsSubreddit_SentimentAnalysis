{
 "cells": [
  {
   "cell_type": "markdown",
   "id": "0d74182f-3f5e-46d5-82cf-152b2dd25342",
   "metadata": {
    "id": "0d74182f-3f5e-46d5-82cf-152b2dd25342",
    "tags": []
   },
   "source": [
    "# Sentiment Analysis - World News Subreddit"
   ]
  },
  {
   "cell_type": "code",
   "execution_count": 267,
   "id": "mBQf-mLPNhKQ",
   "metadata": {
    "id": "mBQf-mLPNhKQ"
   },
   "outputs": [
    {
     "name": "stdout",
     "output_type": "stream",
     "text": [
      "Starting Spark application\n"
     ]
    },
    {
     "data": {
      "text/html": [
       "<table>\n",
       "<tr><th>ID</th><th>YARN Application ID</th><th>Kind</th><th>State</th><th>Spark UI</th><th>Driver log</th><th>User</th><th>Current session?</th></tr><tr><td>324</td><td>application_1681238170162_0324</td><td>pyspark</td><td>idle</td><td><a target=\"_blank\" href=\"http://ip-10-0-5-145.us-west-2.compute.internal:20888/proxy/application_1681238170162_0324/\">Link</a></td><td><a target=\"_blank\" href=\"http://ip-10-0-15-157.us-west-2.compute.internal:8042/node/containerlogs/container_1681238170162_0324_01_000001/livy\">Link</a></td><td>None</td><td>✔</td></tr></table>"
      ],
      "text/plain": [
       "<IPython.core.display.HTML object>"
      ]
     },
     "metadata": {},
     "output_type": "display_data"
    },
    {
     "data": {
      "application/vnd.jupyter.widget-view+json": {
       "model_id": "",
       "version_major": 2,
       "version_minor": 0
      },
      "text/plain": [
       "FloatProgress(value=0.0, bar_style='info', description='Progress:', layout=Layout(height='25px', width='50%'),…"
      ]
     },
     "metadata": {},
     "output_type": "display_data"
    },
    {
     "name": "stdout",
     "output_type": "stream",
     "text": [
      "SparkSession available as 'spark'.\n"
     ]
    },
    {
     "data": {
      "text/html": [
       "Current session configs: <tt>{'executorMemory': '2G', 'driverMemory': '1G', 'executorCores': 1, 'numExecutors': 3, 'conf': {'spark.dynamicAllocation.enabled': 'false', 'spark.sql.parquet.enableVectorizedReader': 'false', 'spark.pyspark.python': 'python3', 'spark.pyspark.virtualenv.enabled': 'true', 'spark.pyspark.virtualenv.type': 'native', 'spark.pyspark.virtualenv.bin.path': '/usr/bin/virtualenv'}, 'proxyUser': 'test_G2', 'kind': 'pyspark'}</tt><br>"
      ],
      "text/plain": [
       "<IPython.core.display.HTML object>"
      ]
     },
     "metadata": {},
     "output_type": "display_data"
    },
    {
     "data": {
      "text/html": [
       "<table>\n",
       "<tr><th>ID</th><th>YARN Application ID</th><th>Kind</th><th>State</th><th>Spark UI</th><th>Driver log</th><th>User</th><th>Current session?</th></tr><tr><td>292</td><td>application_1681238170162_0292</td><td>pyspark</td><td>idle</td><td><a target=\"_blank\" href=\"http://ip-10-0-5-145.us-west-2.compute.internal:20888/proxy/application_1681238170162_0292/\">Link</a></td><td><a target=\"_blank\" href=\"http://ip-10-0-5-66.us-west-2.compute.internal:8042/node/containerlogs/container_1681238170162_0292_01_000001/livy\">Link</a></td><td>None</td><td></td></tr><tr><td>312</td><td>application_1681238170162_0312</td><td>pyspark</td><td>idle</td><td><a target=\"_blank\" href=\"http://ip-10-0-5-145.us-west-2.compute.internal:20888/proxy/application_1681238170162_0312/\">Link</a></td><td><a target=\"_blank\" href=\"http://ip-10-0-15-157.us-west-2.compute.internal:8042/node/containerlogs/container_1681238170162_0312_01_000001/livy\">Link</a></td><td>None</td><td></td></tr><tr><td>321</td><td>application_1681238170162_0321</td><td>pyspark</td><td>idle</td><td><a target=\"_blank\" href=\"http://ip-10-0-5-145.us-west-2.compute.internal:20888/proxy/application_1681238170162_0321/\">Link</a></td><td><a target=\"_blank\" href=\"http://ip-10-0-8-95.us-west-2.compute.internal:8042/node/containerlogs/container_1681238170162_0321_01_000002/livy\">Link</a></td><td>None</td><td></td></tr><tr><td>324</td><td>application_1681238170162_0324</td><td>pyspark</td><td>idle</td><td><a target=\"_blank\" href=\"http://ip-10-0-5-145.us-west-2.compute.internal:20888/proxy/application_1681238170162_0324/\">Link</a></td><td><a target=\"_blank\" href=\"http://ip-10-0-15-157.us-west-2.compute.internal:8042/node/containerlogs/container_1681238170162_0324_01_000001/livy\">Link</a></td><td>None</td><td>✔</td></tr></table>"
      ],
      "text/plain": [
       "<IPython.core.display.HTML object>"
      ]
     },
     "metadata": {},
     "output_type": "display_data"
    }
   ],
   "source": [
    "%%configure -f\n",
    "{\"executorMemory\": \"2G\",\"driverMemory\":\"1G\",\"executorCores\": 1,\"numExecutors\": 3, \n",
    " \"conf\": {\"spark.dynamicAllocation.enabled\": \"false\", \n",
    "          \"spark.sql.parquet.enableVectorizedReader\": \"false\", \n",
    "          \"spark.pyspark.python\": \"python3\",\n",
    "          \"spark.pyspark.virtualenv.enabled\": \"true\",\n",
    "          \"spark.pyspark.virtualenv.type\": \"native\",\n",
    "          \"spark.pyspark.virtualenv.bin.path\": \"/usr/bin/virtualenv\"}}\n",
    "\n"
   ]
  },
  {
   "cell_type": "code",
   "execution_count": 268,
   "id": "d5775235",
   "metadata": {},
   "outputs": [
    {
     "data": {
      "application/vnd.jupyter.widget-view+json": {
       "model_id": "",
       "version_major": 2,
       "version_minor": 0
      },
      "text/plain": [
       "FloatProgress(value=0.0, bar_style='info', description='Progress:', layout=Layout(height='25px', width='50%'),…"
      ]
     },
     "metadata": {},
     "output_type": "display_data"
    }
   ],
   "source": [
    "%%spark"
   ]
  },
  {
   "cell_type": "code",
   "execution_count": 226,
   "id": "e478d007",
   "metadata": {},
   "outputs": [
    {
     "data": {
      "application/vnd.jupyter.widget-view+json": {
       "model_id": "",
       "version_major": 2,
       "version_minor": 0
      },
      "text/plain": [
       "FloatProgress(value=0.0, bar_style='info', description='Progress:', layout=Layout(height='25px', width='50%'),…"
      ]
     },
     "metadata": {},
     "output_type": "display_data"
    }
   ],
   "source": [
    "sc.addPyFile('s3://msbx5420-spr23/class/spark-nlp_2.12-4.4.1.jar')"
   ]
  },
  {
   "cell_type": "code",
   "execution_count": 271,
   "id": "72c27784",
   "metadata": {},
   "outputs": [
    {
     "data": {
      "application/vnd.jupyter.widget-view+json": {
       "model_id": "",
       "version_major": 2,
       "version_minor": 0
      },
      "text/plain": [
       "FloatProgress(value=0.0, bar_style='info', description='Progress:', layout=Layout(height='25px', width='50%'),…"
      ]
     },
     "metadata": {},
     "output_type": "display_data"
    },
    {
     "name": "stdout",
     "output_type": "stream",
     "text": [
      "Package                    Version\n",
      "-------------------------- ------------------\n",
      "absl-py                    1.3.0\n",
      "astor                      file-astor-VERSION\n",
      "astunparse                 1.6.3\n",
      "aws-cfn-bootstrap          2.0\n",
      "beautifulsoup4             4.9.3\n",
      "bleach                     3.3.1\n",
      "boto                       2.49.0\n",
      "cachetools                 4.1.1\n",
      "certifi                    2022.12.7\n",
      "chardet                    5.1.0\n",
      "charset-normalizer         3.0.1\n",
      "click                      8.1.3\n",
      "cryptography               3.2.1\n",
      "cycler                     0.11.0\n",
      "docutils                   0.14\n",
      "flatbuffers                22.12.6\n",
      "fonttools                  4.38.0\n",
      "funcsigs                   1.0.2\n",
      "gast                       0.5.3\n",
      "google-auth                1.23.0\n",
      "google-auth-oauthlib       0.4.2\n",
      "google-pasta               0.2.0\n",
      "grpcio                     1.29.0\n",
      "h5py                       2.10.0\n",
      "html5lib                   1.1\n",
      "idna                       2.10\n",
      "importlib-metadata         2.0.0\n",
      "jmespath                   1.0.1\n",
      "joblib                     1.2.0\n",
      "Keras-Applications         1.0.8\n",
      "Keras-Preprocessing        1.1.2\n",
      "kiwisolver                 1.4.4\n",
      "lockfile                   0.11.0\n",
      "lxml                       4.9.2\n",
      "Markdown                   3.3.4\n",
      "matplotlib                 3.5.3\n",
      "mysqlclient                1.4.2\n",
      "nltk                       3.8\n",
      "nose                       1.3.4\n",
      "numpy                      1.20.0\n",
      "oauthlib                   3.1.0\n",
      "opt-einsum                 2.3.2\n",
      "packaging                  22.0\n",
      "pandas                     1.3.5\n",
      "Pillow                     9.5.0\n",
      "pip                        20.2.2\n",
      "protobuf                   3.20.1\n",
      "py-dateutil                2.2\n",
      "pyasn1                     0.4.8\n",
      "pyasn1-modules             0.2.8\n",
      "pyparsing                  3.0.9\n",
      "pystache                   0.5.4\n",
      "python-daemon              2.2.3\n",
      "python-dateutil            2.8.2\n",
      "python37-sagemaker-pyspark 1.4.2\n",
      "pytz                       2022.7\n",
      "PyYAML                     5.4.1\n",
      "regex                      2021.11.10\n",
      "requests                   2.28.1\n",
      "requests-oauthlib          1.3.0\n",
      "rsa                        4.6\n",
      "setuptools                 28.8.0\n",
      "simplejson                 3.2.0\n",
      "six                        1.13.0\n",
      "tensorboard                2.11.0\n",
      "tensorboard-plugin-wit     1.8.0\n",
      "tensorflow                 2.11.0\n",
      "tensorflow-estimator       2.11.0\n",
      "termcolor                  1.1.0\n",
      "tqdm                       4.64.1\n",
      "typing-extensions          4.4.0\n",
      "urllib3                    1.26.13\n",
      "webencodings               0.5.1\n",
      "Werkzeug                   1.0.1\n",
      "wheel                      0.29.0\n",
      "windmill                   1.6\n",
      "wordcloud                  1.9.1.1\n",
      "wrapt                      1.12.1\n",
      "zipp                       3.4.0\n",
      "\n",
      "WARNING: The directory '/home/.cache/pip' or its parent directory is not owned or is not writable by the current user. The cache has been disabled. Check the permissions and owner of that directory. If executing pip with sudo, you may want sudo's -H flag."
     ]
    }
   ],
   "source": [
    "sc.list_packages()"
   ]
  },
  {
   "cell_type": "code",
   "execution_count": 270,
   "id": "08bb3bae",
   "metadata": {},
   "outputs": [
    {
     "data": {
      "application/vnd.jupyter.widget-view+json": {
       "model_id": "",
       "version_major": 2,
       "version_minor": 0
      },
      "text/plain": [
       "FloatProgress(value=0.0, bar_style='info', description='Progress:', layout=Layout(height='25px', width='50%'),…"
      ]
     },
     "metadata": {},
     "output_type": "display_data"
    },
    {
     "name": "stdout",
     "output_type": "stream",
     "text": [
      "Collecting pandas\n",
      "  Downloading pandas-1.3.5-cp37-cp37m-manylinux_2_17_x86_64.manylinux2014_x86_64.whl (11.3 MB)\n",
      "Collecting python-dateutil>=2.7.3\n",
      "  Downloading python_dateutil-2.8.2-py2.py3-none-any.whl (247 kB)\n",
      "Requirement already satisfied: numpy>=1.17.3; platform_machine != \"aarch64\" and platform_machine != \"arm64\" and python_version < \"3.10\" in /usr/local/lib64/python3.7/site-packages (from pandas) (1.20.0)\n",
      "Requirement already satisfied: pytz>=2017.3 in /usr/local/lib/python3.7/site-packages (from pandas) (2022.7)\n",
      "Requirement already satisfied: six>=1.5 in /usr/local/lib/python3.7/site-packages (from python-dateutil>=2.7.3->pandas) (1.13.0)\n",
      "Installing collected packages: python-dateutil, pandas\n",
      "Successfully installed pandas-1.3.5 python-dateutil-2.8.2\n",
      "\n",
      "Collecting matplotlib\n",
      "  Downloading matplotlib-3.5.3-cp37-cp37m-manylinux_2_5_x86_64.manylinux1_x86_64.whl (11.2 MB)\n",
      "Requirement already satisfied: numpy>=1.17 in /usr/local/lib64/python3.7/site-packages (from matplotlib) (1.20.0)\n",
      "Requirement already satisfied: packaging>=20.0 in /usr/local/lib64/python3.7/site-packages (from matplotlib) (22.0)\n",
      "Requirement already satisfied: python-dateutil>=2.7 in ./tmp/1682912872656-0/lib/python3.7/site-packages (from matplotlib) (2.8.2)\n",
      "Collecting pyparsing>=2.2.1\n",
      "  Downloading pyparsing-3.0.9-py3-none-any.whl (98 kB)\n",
      "Collecting cycler>=0.10\n",
      "  Downloading cycler-0.11.0-py3-none-any.whl (6.4 kB)\n",
      "Collecting kiwisolver>=1.0.1\n",
      "  Downloading kiwisolver-1.4.4-cp37-cp37m-manylinux_2_5_x86_64.manylinux1_x86_64.whl (1.1 MB)\n",
      "Collecting pillow>=6.2.0\n",
      "  Downloading Pillow-9.5.0-cp37-cp37m-manylinux_2_17_x86_64.manylinux2014_x86_64.whl (3.3 MB)\n",
      "Collecting fonttools>=4.22.0\n",
      "  Downloading fonttools-4.38.0-py3-none-any.whl (965 kB)\n",
      "Requirement already satisfied: six>=1.5 in /usr/local/lib/python3.7/site-packages (from python-dateutil>=2.7->matplotlib) (1.13.0)\n",
      "Requirement already satisfied: typing-extensions; python_version < \"3.8\" in /usr/local/lib64/python3.7/site-packages (from kiwisolver>=1.0.1->matplotlib) (4.4.0)\n",
      "Installing collected packages: pyparsing, cycler, kiwisolver, pillow, fonttools, matplotlib\n",
      "Successfully installed cycler-0.11.0 fonttools-4.38.0 kiwisolver-1.4.4 matplotlib-3.5.3 pillow-9.5.0 pyparsing-3.0.9\n",
      "\n",
      "Collecting wordcloud\n",
      "  Downloading wordcloud-1.9.1.1-cp37-cp37m-manylinux_2_17_x86_64.manylinux2014_x86_64.whl (437 kB)\n",
      "Requirement already satisfied: pillow in ./tmp/1682912872656-0/lib/python3.7/site-packages (from wordcloud) (9.5.0)\n",
      "Requirement already satisfied: matplotlib in ./tmp/1682912872656-0/lib/python3.7/site-packages (from wordcloud) (3.5.3)\n",
      "Requirement already satisfied: numpy>=1.6.1 in /usr/local/lib64/python3.7/site-packages (from wordcloud) (1.20.0)\n",
      "Requirement already satisfied: packaging>=20.0 in /usr/local/lib64/python3.7/site-packages (from matplotlib->wordcloud) (22.0)\n",
      "Requirement already satisfied: python-dateutil>=2.7 in ./tmp/1682912872656-0/lib/python3.7/site-packages (from matplotlib->wordcloud) (2.8.2)\n",
      "Requirement already satisfied: pyparsing>=2.2.1 in ./tmp/1682912872656-0/lib/python3.7/site-packages (from matplotlib->wordcloud) (3.0.9)\n",
      "Requirement already satisfied: cycler>=0.10 in ./tmp/1682912872656-0/lib/python3.7/site-packages (from matplotlib->wordcloud) (0.11.0)\n",
      "Requirement already satisfied: fonttools>=4.22.0 in ./tmp/1682912872656-0/lib/python3.7/site-packages (from matplotlib->wordcloud) (4.38.0)\n",
      "Requirement already satisfied: kiwisolver>=1.0.1 in ./tmp/1682912872656-0/lib/python3.7/site-packages (from matplotlib->wordcloud) (1.4.4)\n",
      "Requirement already satisfied: six>=1.5 in /usr/local/lib/python3.7/site-packages (from python-dateutil>=2.7->matplotlib->wordcloud) (1.13.0)\n",
      "Requirement already satisfied: typing-extensions; python_version < \"3.8\" in /usr/local/lib64/python3.7/site-packages (from kiwisolver>=1.0.1->matplotlib->wordcloud) (4.4.0)\n",
      "Installing collected packages: wordcloud\n",
      "Successfully installed wordcloud-1.9.1.1\n",
      "\n",
      "WARNING: The directory '/home/.cache/pip' or its parent directory is not owned or is not writable by the current user. The cache has been disabled. Check the permissions and owner of that directory. If executing pip with sudo, you may want sudo's -H flag.\n",
      "\n",
      "WARNING: The directory '/home/.cache/pip' or its parent directory is not owned or is not writable by the current user. The cache has been disabled. Check the permissions and owner of that directory. If executing pip with sudo, you may want sudo's -H flag.\n",
      "\n",
      "WARNING: The directory '/home/.cache/pip' or its parent directory is not owned or is not writable by the current user. The cache has been disabled. Check the permissions and owner of that directory. If executing pip with sudo, you may want sudo's -H flag."
     ]
    }
   ],
   "source": [
    "sc.install_pypi_package(\"pandas\")\n",
    "sc.install_pypi_package(\"matplotlib\")\n",
    "sc.install_pypi_package(\"wordcloud\")"
   ]
  },
  {
   "cell_type": "code",
   "execution_count": 144,
   "id": "0Ts_oOCfNiQb",
   "metadata": {
    "id": "0Ts_oOCfNiQb"
   },
   "outputs": [
    {
     "data": {
      "application/vnd.jupyter.widget-view+json": {
       "model_id": "",
       "version_major": 2,
       "version_minor": 0
      },
      "text/plain": [
       "FloatProgress(value=0.0, bar_style='info', description='Progress:', layout=Layout(height='25px', width='50%'),…"
      ]
     },
     "metadata": {},
     "output_type": "display_data"
    }
   ],
   "source": [
    "#%%local\n",
    "\n",
    "#from pyspark import SparkContext\n",
    "#sc = SparkContext()"
   ]
  },
  {
   "cell_type": "code",
   "execution_count": 229,
   "id": "7893e4c7-6b21-4843-835f-9b9d27d11c86",
   "metadata": {
    "id": "7893e4c7-6b21-4843-835f-9b9d27d11c86",
    "tags": []
   },
   "outputs": [
    {
     "data": {
      "application/vnd.jupyter.widget-view+json": {
       "model_id": "",
       "version_major": 2,
       "version_minor": 0
      },
      "text/plain": [
       "FloatProgress(value=0.0, bar_style='info', description='Progress:', layout=Layout(height='25px', width='50%'),…"
      ]
     },
     "metadata": {},
     "output_type": "display_data"
    }
   ],
   "source": [
    "import pandas as pd\n",
    "pd.set_option('max_colwidth', 800)"
   ]
  },
  {
   "cell_type": "code",
   "execution_count": 230,
   "id": "01bbd8c6-8e53-4b26-b1a3-02d45cdd4aec",
   "metadata": {
    "id": "01bbd8c6-8e53-4b26-b1a3-02d45cdd4aec",
    "outputId": "ceda2014-d2ce-4bb2-ba35-73202e6a4ef4",
    "tags": []
   },
   "outputs": [
    {
     "data": {
      "application/vnd.jupyter.widget-view+json": {
       "model_id": "",
       "version_major": 2,
       "version_minor": 0
      },
      "text/plain": [
       "FloatProgress(value=0.0, bar_style='info', description='Progress:', layout=Layout(height='25px', width='50%'),…"
      ]
     },
     "metadata": {},
     "output_type": "display_data"
    },
    {
     "name": "stdout",
     "output_type": "stream",
     "text": [
      "<pyspark.sql.session.SparkSession object at 0x7f2eb879f390>"
     ]
    }
   ],
   "source": [
    "from pyspark.sql import SparkSession\n",
    "\n",
    "spark = SparkSession.builder \\\n",
    "        .config(\"spark.jars.packages\", \"com.johnsnowlabs.nlp:spark-nlp_2.12:4.3.2\") \\\n",
    "        .getOrCreate()\n",
    "\n",
    "spark\n"
   ]
  },
  {
   "cell_type": "markdown",
   "id": "acaf3a73-845e-4277-9132-872099dec4d4",
   "metadata": {
    "id": "acaf3a73-845e-4277-9132-872099dec4d4",
    "tags": []
   },
   "source": [
    "\n",
    "\n",
    "Read multiple files in a dir as one Dataframe\n"
   ]
  },
  {
   "cell_type": "code",
   "execution_count": 231,
   "id": "ad403f8b-406c-421e-8746-6ac0237e1cd6",
   "metadata": {
    "id": "ad403f8b-406c-421e-8746-6ac0237e1cd6",
    "outputId": "f4110f11-1911-435f-c4a7-c84dc9383eed",
    "tags": []
   },
   "outputs": [
    {
     "data": {
      "application/vnd.jupyter.widget-view+json": {
       "model_id": "",
       "version_major": 2,
       "version_minor": 0
      },
      "text/plain": [
       "FloatProgress(value=0.0, bar_style='info', description='Progress:', layout=Layout(height='25px', width='50%'),…"
      ]
     },
     "metadata": {},
     "output_type": "display_data"
    },
    {
     "name": "stdout",
     "output_type": "stream",
     "text": [
      "+------------+------------+--------+----------+--------------------+-------+--------+---------+\n",
      "|time_created|date_created|up_votes|down_votes|               title|over_18|  author|subreddit|\n",
      "+------------+------------+--------+----------+--------------------+-------+--------+---------+\n",
      "|  1201232046|  2008-01-25|       3|         0|Scores killed in ...|  False|   polar|worldnews|\n",
      "|  1201232075|  2008-01-25|       2|         0|Japan resumes ref...|  False|   polar|worldnews|\n",
      "|  1201232523|  2008-01-25|       3|         0|US presses Egypt ...|  False|   polar|worldnews|\n",
      "|  1201233290|  2008-01-25|       1|         0|Jump-start econom...|  False| fadi420|worldnews|\n",
      "|  1201274720|  2008-01-25|       4|         0|Council of Europe...|  False|mhermans|worldnews|\n",
      "+------------+------------+--------+----------+--------------------+-------+--------+---------+\n",
      "only showing top 5 rows"
     ]
    }
   ],
   "source": [
    "# read a CSV file into a Spark DataFrame\n",
    "df = spark.read.csv(\"s3://msbx5420-spr23/Group_2/reddit_worldnews_start_to_2016-11-22.csv\", header=True, inferSchema=True)\n",
    "\n",
    "# show the first few rows of the DataFrame\n",
    "df.show(5)\n"
   ]
  },
  {
   "cell_type": "code",
   "execution_count": 232,
   "id": "6fb7a4ba-aedd-4e14-9831-356dbd76317f",
   "metadata": {
    "id": "6fb7a4ba-aedd-4e14-9831-356dbd76317f",
    "outputId": "c77c45ca-63a1-4fb3-b6f4-21ce91fe6ef4",
    "tags": []
   },
   "outputs": [
    {
     "data": {
      "application/vnd.jupyter.widget-view+json": {
       "model_id": "",
       "version_major": 2,
       "version_minor": 0
      },
      "text/plain": [
       "FloatProgress(value=0.0, bar_style='info', description='Progress:', layout=Layout(height='25px', width='50%'),…"
      ]
     },
     "metadata": {},
     "output_type": "display_data"
    },
    {
     "name": "stdout",
     "output_type": "stream",
     "text": [
      "520310\n",
      "root\n",
      " |-- time_created: string (nullable = true)\n",
      " |-- date_created: string (nullable = true)\n",
      " |-- up_votes: string (nullable = true)\n",
      " |-- down_votes: string (nullable = true)\n",
      " |-- title: string (nullable = true)\n",
      " |-- over_18: string (nullable = true)\n",
      " |-- author: string (nullable = true)\n",
      " |-- subreddit: string (nullable = true)"
     ]
    }
   ],
   "source": [
    "print(df.count())\n",
    "df.printSchema()"
   ]
  },
  {
   "cell_type": "code",
   "execution_count": 233,
   "id": "e7258a38-8dee-404e-813b-4e882e3fa1e6",
   "metadata": {
    "id": "e7258a38-8dee-404e-813b-4e882e3fa1e6",
    "outputId": "a49ec655-66cb-4f61-e397-7aa70d174150",
    "tags": []
   },
   "outputs": [
    {
     "data": {
      "application/vnd.jupyter.widget-view+json": {
       "model_id": "",
       "version_major": 2,
       "version_minor": 0
      },
      "text/plain": [
       "FloatProgress(value=0.0, bar_style='info', description='Progress:', layout=Layout(height='25px', width='50%'),…"
      ]
     },
     "metadata": {},
     "output_type": "display_data"
    },
    {
     "name": "stdout",
     "output_type": "stream",
     "text": [
      "                                             title    author\n",
      "0                Scores killed in Pakistan clashes     polar\n",
      "1                 Japan resumes refuelling mission     polar\n",
      "2                  US presses Egypt on Gaza border     polar\n",
      "3     Jump-start economy: Give health care to all    fadi420\n",
      "4  Council of Europe bashes EU&UN terror blacklist  mhermans"
     ]
    }
   ],
   "source": [
    "from pyspark.sql.functions import col\n",
    "\n",
    "dfAuthorTitle = df.select(col(\"title\"), col(\"author\"))\n",
    "dfAuthorTitle.limit(5).toPandas()"
   ]
  },
  {
   "cell_type": "markdown",
   "id": "d8e0p_YMTNAN",
   "metadata": {
    "id": "d8e0p_YMTNAN"
   },
   "source": [
    "# Part of Speech Tagging (POS)"
   ]
  },
  {
   "cell_type": "markdown",
   "id": "7d557664-620a-46a4-9691-bebf78fac8f7",
   "metadata": {
    "id": "7d557664-620a-46a4-9691-bebf78fac8f7",
    "tags": []
   },
   "source": [
    "\n",
    "Try to implement the equivalent of flatMap in dataframes\n"
   ]
  },
  {
   "cell_type": "code",
   "execution_count": 234,
   "id": "e1732a87-10c0-40f8-b1ca-eb2f4e5d9208",
   "metadata": {
    "id": "e1732a87-10c0-40f8-b1ca-eb2f4e5d9208",
    "outputId": "e78a3c3b-fc68-40dd-a558-6c84c641eb45",
    "tags": []
   },
   "outputs": [
    {
     "data": {
      "application/vnd.jupyter.widget-view+json": {
       "model_id": "",
       "version_major": 2,
       "version_minor": 0
      },
      "text/plain": [
       "FloatProgress(value=0.0, bar_style='info', description='Progress:', layout=Layout(height='25px', width='50%'),…"
      ]
     },
     "metadata": {},
     "output_type": "display_data"
    },
    {
     "name": "stdout",
     "output_type": "stream",
     "text": [
      "  word   count\n",
      "0   to  202905\n",
      "1   in  194387\n",
      "2  the  173461\n",
      "3   of  168314\n",
      "4    a   91871\n",
      "5  and   83186\n",
      "6    s   77617\n",
      "7  for   75286\n",
      "8   on   69446\n",
      "9        54419"
     ]
    }
   ],
   "source": [
    "import pyspark.sql.functions as F\n",
    "\n",
    "dfWordCount = df.select(F.explode(F.split(df.title, \"\\\\s+\")).alias(\"word\")) \\\n",
    "                .groupBy(\"word\").count() \\\n",
    "                .orderBy(F.desc(\"count\"))\n",
    "\n",
    "dfWordCount.limit(10).toPandas()\n"
   ]
  },
  {
   "cell_type": "code",
   "execution_count": 235,
   "id": "258b0d43-ff4d-4f06-becd-6011ee56145c",
   "metadata": {
    "id": "258b0d43-ff4d-4f06-becd-6011ee56145c",
    "outputId": "eb389505-da08-4f55-cecb-c54696ff2838",
    "tags": []
   },
   "outputs": [
    {
     "data": {
      "application/vnd.jupyter.widget-view+json": {
       "model_id": "",
       "version_major": 2,
       "version_minor": 0
      },
      "text/plain": [
       "FloatProgress(value=0.0, bar_style='info', description='Progress:', layout=Layout(height='25px', width='50%'),…"
      ]
     },
     "metadata": {},
     "output_type": "display_data"
    },
    {
     "name": "stdout",
     "output_type": "stream",
     "text": [
      "Collecting spark-nlp==4.4.0\n",
      "  Downloading spark_nlp-4.4.0-py2.py3-none-any.whl (486 kB)\n",
      "Installing collected packages: spark-nlp\n",
      "Successfully installed spark-nlp-4.4.0\n",
      "\n",
      "WARNING: The directory '/home/.cache/pip' or its parent directory is not owned or is not writable by the current user. The cache has been disabled. Check the permissions and owner of that directory. If executing pip with sudo, you may want sudo's -H flag."
     ]
    }
   ],
   "source": [
    "#pip install spark-nlp==4.4.0\n",
    "sc.install_pypi_package(\"spark-nlp==4.4.0\")"
   ]
  },
  {
   "cell_type": "markdown",
   "id": "610e961c-f7a8-470d-b1a8-d6ad66b81f6b",
   "metadata": {
    "id": "610e961c-f7a8-470d-b1a8-d6ad66b81f6b",
    "tags": []
   },
   "source": [
    "\n",
    "Use an NLP libary to do Part-of-Speech Tagging\n"
   ]
  },
  {
   "cell_type": "code",
   "execution_count": 184,
   "id": "7b93bfce-d2dc-42d3-93bd-e9dd0835a0b5",
   "metadata": {
    "id": "7b93bfce-d2dc-42d3-93bd-e9dd0835a0b5",
    "tags": []
   },
   "outputs": [
    {
     "data": {
      "application/vnd.jupyter.widget-view+json": {
       "model_id": "",
       "version_major": 2,
       "version_minor": 0
      },
      "text/plain": [
       "FloatProgress(value=0.0, bar_style='info', description='Progress:', layout=Layout(height='25px', width='50%'),…"
      ]
     },
     "metadata": {},
     "output_type": "display_data"
    }
   ],
   "source": [
    "# Import necessary libraries\n",
    "from sparknlp.base import DocumentAssembler\n",
    "from sparknlp.annotator import Tokenizer, LemmatizerModel, StopWordsCleaner, PerceptronModel, SentimentDetector\n",
    "from pyspark.sql.functions import explode, col\n",
    "from pyspark.sql.types import StringType\n",
    "from pyspark.ml import Pipeline\n",
    "from pyspark.sql.functions import desc\n",
    "from sparknlp.pretrained import PretrainedPipeline"
   ]
  },
  {
   "cell_type": "code",
   "execution_count": 185,
   "id": "fce8b66e-3c71-4988-bfcf-d7455577e21a",
   "metadata": {
    "id": "fce8b66e-3c71-4988-bfcf-d7455577e21a",
    "outputId": "fade4aa7-c571-4ee4-f37e-c10a1bfa6da1",
    "tags": []
   },
   "outputs": [
    {
     "data": {
      "application/vnd.jupyter.widget-view+json": {
       "model_id": "",
       "version_major": 2,
       "version_minor": 0
      },
      "text/plain": [
       "FloatProgress(value=0.0, bar_style='info', description='Progress:', layout=Layout(height='25px', width='50%'),…"
      ]
     },
     "metadata": {},
     "output_type": "display_data"
    },
    {
     "name": "stdout",
     "output_type": "stream",
     "text": [
      "Warning::Spark Session already created, some configs may not take."
     ]
    }
   ],
   "source": [
    "# Initialize Spark NLP\n",
    "import sparknlp\n",
    "spark = sparknlp.start()"
   ]
  },
  {
   "cell_type": "code",
   "execution_count": 186,
   "id": "b245da40-d165-4878-b246-d6f39898810f",
   "metadata": {
    "id": "b245da40-d165-4878-b246-d6f39898810f",
    "outputId": "7f3764ed-5889-4b64-ea21-c6a18b30bbee",
    "tags": []
   },
   "outputs": [
    {
     "data": {
      "application/vnd.jupyter.widget-view+json": {
       "model_id": "",
       "version_major": 2,
       "version_minor": 0
      },
      "text/plain": [
       "FloatProgress(value=0.0, bar_style='info', description='Progress:', layout=Layout(height='25px', width='50%'),…"
      ]
     },
     "metadata": {},
     "output_type": "display_data"
    },
    {
     "name": "stdout",
     "output_type": "stream",
     "text": [
      "pos_anc download started this may take some time.\n",
      "Approximate size to download 3.9 MB\n",
      "[OK!]"
     ]
    }
   ],
   "source": [
    "# Load the pre-trained POS tagger\n",
    "pos_model = PerceptronModel.pretrained()"
   ]
  },
  {
   "cell_type": "code",
   "execution_count": 118,
   "id": "2ecdfb8a-8158-4c94-b49b-58dc1cb1f1f0",
   "metadata": {
    "id": "2ecdfb8a-8158-4c94-b49b-58dc1cb1f1f0",
    "outputId": "af885327-0038-42ba-cf21-7d52a1a22238",
    "tags": []
   },
   "outputs": [
    {
     "data": {
      "application/vnd.jupyter.widget-view+json": {
       "model_id": "",
       "version_major": 2,
       "version_minor": 0
      },
      "text/plain": [
       "FloatProgress(value=0.0, bar_style='info', description='Progress:', layout=Layout(height='25px', width='50%'),…"
      ]
     },
     "metadata": {},
     "output_type": "display_data"
    }
   ],
   "source": [
    "# Load the pre-trained sentiment analysis model\n",
    "#pipeline1 = PretrainedPipeline('analyze_sentiment', lang='en')"
   ]
  },
  {
   "cell_type": "code",
   "execution_count": 187,
   "id": "cc144791-be41-478b-8d4f-6b494729b937",
   "metadata": {
    "id": "cc144791-be41-478b-8d4f-6b494729b937",
    "outputId": "df2458af-b6e2-415f-8f5b-00e04b7040a3",
    "tags": []
   },
   "outputs": [
    {
     "data": {
      "application/vnd.jupyter.widget-view+json": {
       "model_id": "",
       "version_major": 2,
       "version_minor": 0
      },
      "text/plain": [
       "FloatProgress(value=0.0, bar_style='info', description='Progress:', layout=Layout(height='25px', width='50%'),…"
      ]
     },
     "metadata": {},
     "output_type": "display_data"
    },
    {
     "name": "stdout",
     "output_type": "stream",
     "text": [
      "                                              text\n",
      "0                Scores killed in Pakistan clashes\n",
      "1                 Japan resumes refuelling mission\n",
      "2                  US presses Egypt on Gaza border\n",
      "3     Jump-start economy: Give health care to all \n",
      "4  Council of Europe bashes EU&UN terror blacklist"
     ]
    }
   ],
   "source": [
    "# Define the Spark DataFrame with the text to annotate\n",
    "text_df = dfAuthorTitle.selectExpr(\"title as text\")\n",
    "text_df.limit(5).toPandas()"
   ]
  },
  {
   "cell_type": "code",
   "execution_count": 188,
   "id": "15774d57-93a3-41a0-9046-faabbcd6c8b0",
   "metadata": {
    "id": "15774d57-93a3-41a0-9046-faabbcd6c8b0",
    "tags": []
   },
   "outputs": [
    {
     "data": {
      "application/vnd.jupyter.widget-view+json": {
       "model_id": "",
       "version_major": 2,
       "version_minor": 0
      },
      "text/plain": [
       "FloatProgress(value=0.0, bar_style='info', description='Progress:', layout=Layout(height='25px', width='50%'),…"
      ]
     },
     "metadata": {},
     "output_type": "display_data"
    }
   ],
   "source": [
    "# Create the DocumentAssembler and annotate the text\n",
    "documentAssembler = DocumentAssembler().setInputCol(\"text\").setOutputCol(\"document\")\n",
    "text_df = documentAssembler.transform(text_df)\n",
    "tokenizer = Tokenizer().setInputCols([\"document\"]).setOutputCol(\"token\")"
   ]
  },
  {
   "cell_type": "code",
   "execution_count": 189,
   "id": "b6dd04c9-786b-4019-ba17-26bf4c373205",
   "metadata": {
    "id": "b6dd04c9-786b-4019-ba17-26bf4c373205",
    "outputId": "1474ccde-57c2-4d50-8090-5a80a5516b09",
    "tags": []
   },
   "outputs": [
    {
     "data": {
      "application/vnd.jupyter.widget-view+json": {
       "model_id": "",
       "version_major": 2,
       "version_minor": 0
      },
      "text/plain": [
       "FloatProgress(value=0.0, bar_style='info', description='Progress:', layout=Layout(height='25px', width='50%'),…"
      ]
     },
     "metadata": {},
     "output_type": "display_data"
    },
    {
     "name": "stdout",
     "output_type": "stream",
     "text": [
      "lemma_antbnc download started this may take some time.\n",
      "Approximate size to download 907.6 KB\n",
      "[OK!]"
     ]
    }
   ],
   "source": [
    "# Remove stop words and lemmatize the text\n",
    "stopWordsCleaner = StopWordsCleaner().setInputCols([\"token\"]).setOutputCol(\"cleanTokens\")\n",
    "lemmatizer = LemmatizerModel.pretrained().setInputCols([\"cleanTokens\"]).setOutputCol(\"lemma\")\n"
   ]
  },
  {
   "cell_type": "code",
   "execution_count": 190,
   "id": "49596bab-ee75-461a-9fff-4cd07f3f4ee3",
   "metadata": {
    "id": "49596bab-ee75-461a-9fff-4cd07f3f4ee3",
    "outputId": "1a92d896-8881-441d-9b5f-9071a5639827",
    "tags": []
   },
   "outputs": [
    {
     "data": {
      "application/vnd.jupyter.widget-view+json": {
       "model_id": "",
       "version_major": 2,
       "version_minor": 0
      },
      "text/plain": [
       "FloatProgress(value=0.0, bar_style='info', description='Progress:', layout=Layout(height='25px', width='50%'),…"
      ]
     },
     "metadata": {},
     "output_type": "display_data"
    },
    {
     "name": "stdout",
     "output_type": "stream",
     "text": [
      "pos_anc download started this may take some time.\n",
      "Approximate size to download 3.9 MB\n",
      "[OK!]"
     ]
    }
   ],
   "source": [
    "# Add POS tagging to the text\n",
    "posTagger = PerceptronModel.pretrained().setInputCols([\"lemma\", \"document\"]).setOutputCol(\"pos\")\n"
   ]
  },
  {
   "cell_type": "code",
   "execution_count": null,
   "id": "e25dd999-6c76-4524-a7a8-1f2e369f00b2",
   "metadata": {
    "id": "e25dd999-6c76-4524-a7a8-1f2e369f00b2",
    "tags": []
   },
   "outputs": [],
   "source": []
  },
  {
   "cell_type": "code",
   "execution_count": 191,
   "id": "48fe8dd6-f343-4719-8b33-f7db44785f43",
   "metadata": {
    "id": "48fe8dd6-f343-4719-8b33-f7db44785f43",
    "tags": []
   },
   "outputs": [
    {
     "data": {
      "application/vnd.jupyter.widget-view+json": {
       "model_id": "",
       "version_major": 2,
       "version_minor": 0
      },
      "text/plain": [
       "FloatProgress(value=0.0, bar_style='info', description='Progress:', layout=Layout(height='25px', width='50%'),…"
      ]
     },
     "metadata": {},
     "output_type": "display_data"
    }
   ],
   "source": [
    "# Assemble the pipeline\n",
    "pipeline = Pipeline(stages=[documentAssembler, tokenizer, stopWordsCleaner, lemmatizer, posTagger])\n"
   ]
  },
  {
   "cell_type": "code",
   "execution_count": 192,
   "id": "b15a29a1-6580-4c29-a51f-38a0f6c67831",
   "metadata": {
    "id": "b15a29a1-6580-4c29-a51f-38a0f6c67831",
    "tags": []
   },
   "outputs": [
    {
     "data": {
      "application/vnd.jupyter.widget-view+json": {
       "model_id": "",
       "version_major": 2,
       "version_minor": 0
      },
      "text/plain": [
       "FloatProgress(value=0.0, bar_style='info', description='Progress:', layout=Layout(height='25px', width='50%'),…"
      ]
     },
     "metadata": {},
     "output_type": "display_data"
    }
   ],
   "source": [
    "# Fit the pipeline to the DataFrame and transform the DataFrame\n",
    "text_df = pipeline.fit(text_df).transform(text_df)"
   ]
  },
  {
   "cell_type": "code",
   "execution_count": 193,
   "id": "78af1179-5a94-40b3-8f60-c79b7c034a4e",
   "metadata": {
    "id": "78af1179-5a94-40b3-8f60-c79b7c034a4e",
    "outputId": "2dad1c68-d069-467b-cc65-1023e6718b66",
    "tags": []
   },
   "outputs": [
    {
     "data": {
      "application/vnd.jupyter.widget-view+json": {
       "model_id": "",
       "version_major": 2,
       "version_minor": 0
      },
      "text/plain": [
       "FloatProgress(value=0.0, bar_style='info', description='Progress:', layout=Layout(height='25px', width='50%'),…"
      ]
     },
     "metadata": {},
     "output_type": "display_data"
    },
    {
     "name": "stdout",
     "output_type": "stream",
     "text": [
      "                                              text  ...                                                                                                                                                                                                                                                                                                                                                                         pos\n",
      "0                Scores killed in Pakistan clashes  ...                                                                                                                              [(pos, 0, 5, NNP, {'sentence': '0', 'word': 'Scores'}, []), (pos, 7, 12, VB, {'sentence': '0', 'word': 'kill'}, []), (pos, 17, 24, NNP, {'sentence': '0', 'word': 'Pakistan'}, []), (pos, 26, 32, NN, {'sentence': '0', 'word': 'clash'}, [])]\n",
      "1                 Japan resumes refuelling mission  ...                                                                                                                              [(pos, 0, 4, NNP, {'sentence': '0', 'word': 'Japan'}, []), (pos, 6, 12, NN, {'sentence': '0', 'word': 'resume'}, []), (pos, 14, 23, NN, {'sentence': '0', 'word': 'refuel'}, []), (pos, 25, 31, NN, {'sentence': '0', 'word': 'mission'}, [])]\n",
      "2                  US presses Egypt on Gaza border  ...                                                                         [(pos, 0, 1, NNP, {'sentence': '0', 'word': 'US'}, []), (pos, 3, 9, NN, {'sentence': '0', 'word': 'press'}, []), (pos, 11, 15, NNP, {'sentence': '0', 'word': 'Egypt'}, []), (pos, 20, 23, NNP, {'sentence': '0', 'word': 'Gaza'}, []), (pos, 25, 30, NN, {'sentence': '0', 'word': 'border'}, [])]\n",
      "3     Jump-start economy: Give health care to all   ...         [(pos, 0, 9, NNP, {'sentence': '0', 'word': 'Jump-start'}, []), (pos, 11, 17, NN, {'sentence': '0', 'word': 'economy'}, []), (pos, 18, 18, :, {'sentence': '0', 'word': ':'}, []), (pos, 20, 23, NNP, {'sentence': '0', 'word': 'Give'}, []), (pos, 25, 30, NN, {'sentence': '0', 'word': 'health'}, []), (pos, 32, 35, NN, {'sentence': '0', 'word': 'care'}, [])]\n",
      "4  Council of Europe bashes EU&UN terror blacklist  ...  [(pos, 0, 6, NNP, {'sentence': '0', 'word': 'Council'}, []), (pos, 11, 16, NNP, {'sentence': '0', 'word': 'Europe'}, []), (pos, 18, 23, NN, {'sentence': '0', 'word': 'bash'}, []), (pos, 25, 29, NNP, {'sentence': '0', 'word': 'EU&UN'}, []), (pos, 31, 36, NN, {'sentence': '0', 'word': 'terror'}, []), (pos, 38, 46, NN, {'sentence': '0', 'word': 'blacklist'}, [])]\n",
      "\n",
      "[5 rows x 6 columns]"
     ]
    }
   ],
   "source": [
    "# Show the annotated DataFrame\n",
    "text_df.limit(5).toPandas()"
   ]
  },
  {
   "cell_type": "code",
   "execution_count": 194,
   "id": "46ad56ac-ee82-49ca-82ec-e26aa31c580f",
   "metadata": {
    "id": "46ad56ac-ee82-49ca-82ec-e26aa31c580f",
    "tags": []
   },
   "outputs": [
    {
     "data": {
      "application/vnd.jupyter.widget-view+json": {
       "model_id": "",
       "version_major": 2,
       "version_minor": 0
      },
      "text/plain": [
       "FloatProgress(value=0.0, bar_style='info', description='Progress:', layout=Layout(height='25px', width='50%'),…"
      ]
     },
     "metadata": {},
     "output_type": "display_data"
    }
   ],
   "source": [
    "# Extract proper nouns (NNP and NNPS) from the POS tagged text\n",
    "dfPos = text_df.select(explode(\"pos\").alias(\"pos\"))\n",
    "nnpFilter = \"pos.result = 'NNP' or pos.result = 'NNPS' \"\n",
    "dfNNP = dfPos.where(nnpFilter)\n",
    "dfWordTag = dfNNP.selectExpr(\"pos.metadata['word'] as word\", \"pos.result as tag\")\n"
   ]
  },
  {
   "cell_type": "code",
   "execution_count": 200,
   "id": "d1611499-465c-4dc0-b566-ec90e0357672",
   "metadata": {
    "id": "d1611499-465c-4dc0-b566-ec90e0357672",
    "outputId": "f7efaee3-cfac-46bf-8958-3bb45661bbb2",
    "tags": []
   },
   "outputs": [
    {
     "data": {
      "application/vnd.jupyter.widget-view+json": {
       "model_id": "",
       "version_major": 2,
       "version_minor": 0
      },
      "text/plain": [
       "FloatProgress(value=0.0, bar_style='info', description='Progress:', layout=Layout(height='25px', width='50%'),…"
      ]
     },
     "metadata": {},
     "output_type": "display_data"
    },
    {
     "name": "stdout",
     "output_type": "stream",
     "text": [
      "+---------+-----+\n",
      "|     word|count|\n",
      "+---------+-----+\n",
      "|    China|24243|\n",
      "|       US|21757|\n",
      "|    Syria|18127|\n",
      "|   Russia|17304|\n",
      "|      U.S|16007|\n",
      "|   Israel|14800|\n",
      "|     Iran|14714|\n",
      "|       UK|11140|\n",
      "|    Korea|10982|\n",
      "|    South|10419|\n",
      "|    North|10295|\n",
      "|  Ukraine| 9995|\n",
      "|    India| 9984|\n",
      "|      New| 9274|\n",
      "|President| 8681|\n",
      "|       UN| 8624|\n",
      "|    World| 8230|\n",
      "|       EU| 8168|\n",
      "|     News| 8152|\n",
      "|    Japan| 8000|\n",
      "+---------+-----+\n",
      "only showing top 20 rows"
     ]
    }
   ],
   "source": [
    "# Show the most frequent proper nouns\n",
    "from pyspark.sql.functions import desc\n",
    "dfWordTag.groupBy(\"word\").count().orderBy(desc(\"count\")).show()"
   ]
  },
  {
   "cell_type": "code",
   "execution_count": null,
   "id": "76793340-84e4-4173-88b1-af6ada96d9af",
   "metadata": {
    "id": "76793340-84e4-4173-88b1-af6ada96d9af",
    "outputId": "1c187369-f438-4631-f0c9-fb3b8b6ccf39",
    "tags": []
   },
   "outputs": [],
   "source": [
    "#pip install wordcloud"
   ]
  },
  {
   "cell_type": "code",
   "execution_count": 214,
   "id": "6ddc16bb-27f0-463a-ad18-0839f6277aef",
   "metadata": {
    "id": "6ddc16bb-27f0-463a-ad18-0839f6277aef",
    "tags": []
   },
   "outputs": [
    {
     "data": {
      "application/vnd.jupyter.widget-view+json": {
       "model_id": "",
       "version_major": 2,
       "version_minor": 0
      },
      "text/plain": [
       "FloatProgress(value=0.0, bar_style='info', description='Progress:', layout=Layout(height='25px', width='50%'),…"
      ]
     },
     "metadata": {},
     "output_type": "display_data"
    }
   ],
   "source": [
    "# Generate word cloud visualization\n",
    "from wordcloud import WordCloud\n",
    "import matplotlib.pyplot as plt\n"
   ]
  },
  {
   "cell_type": "markdown",
   "id": "ZqM1u01zTTPe",
   "metadata": {
    "id": "ZqM1u01zTTPe"
   },
   "source": [
    "# Word Cloud based on general news sentiment"
   ]
  },
  {
   "cell_type": "code",
   "execution_count": 215,
   "id": "0a5f3dee-76ee-48af-bd1d-47419c93495c",
   "metadata": {
    "id": "0a5f3dee-76ee-48af-bd1d-47419c93495c",
    "outputId": "469fcfd9-7440-42c6-d731-325ba5393fc3",
    "tags": []
   },
   "outputs": [
    {
     "data": {
      "application/vnd.jupyter.widget-view+json": {
       "model_id": "",
       "version_major": 2,
       "version_minor": 0
      },
      "text/plain": [
       "FloatProgress(value=0.0, bar_style='info', description='Progress:', layout=Layout(height='25px', width='50%'),…"
      ]
     },
     "metadata": {},
     "output_type": "display_data"
    }
   ],
   "source": [
    "# Convert the DataFrame to a list of words\n",
    "words_list = [row.word for row in dfWordTag.collect()]\n",
    "\n",
    "# Generate the word cloud\n",
    "wordcloud = WordCloud(width = 800, height = 800, background_color ='white', min_font_size = 10).generate(' '.join(words_list))\n",
    "\n",
    "# Plot the word cloud\n",
    "plt.figure(figsize = (8, 8), facecolor = None)\n",
    "plt.imshow(wordcloud)\n",
    "plt.axis(\"off\")\n",
    "plt.tight_layout(pad = 0)\n",
    "  \n",
    "# Show the plot\n",
    "plt.show()\n"
   ]
  },
  {
   "cell_type": "markdown",
   "id": "539dd36b-d3ad-4898-b53b-3481e263fb28",
   "metadata": {
    "id": "539dd36b-d3ad-4898-b53b-3481e263fb28"
   },
   "source": [
    "# Sentiment Analysis"
   ]
  },
  {
   "cell_type": "code",
   "execution_count": 265,
   "id": "8ff3a066",
   "metadata": {},
   "outputs": [
    {
     "name": "stdout",
     "output_type": "stream",
     "text": [
      "Starting Spark application\n"
     ]
    },
    {
     "data": {
      "text/html": [
       "<table>\n",
       "<tr><th>ID</th><th>YARN Application ID</th><th>Kind</th><th>State</th><th>Spark UI</th><th>Driver log</th><th>User</th><th>Current session?</th></tr><tr><td>323</td><td>application_1681238170162_0323</td><td>pyspark</td><td>idle</td><td><a target=\"_blank\" href=\"http://ip-10-0-5-145.us-west-2.compute.internal:20888/proxy/application_1681238170162_0323/\">Link</a></td><td><a target=\"_blank\" href=\"http://ip-10-0-8-95.us-west-2.compute.internal:8042/node/containerlogs/container_1681238170162_0323_01_000001/livy\">Link</a></td><td>None</td><td>✔</td></tr></table>"
      ],
      "text/plain": [
       "<IPython.core.display.HTML object>"
      ]
     },
     "metadata": {},
     "output_type": "display_data"
    },
    {
     "data": {
      "application/vnd.jupyter.widget-view+json": {
       "model_id": "",
       "version_major": 2,
       "version_minor": 0
      },
      "text/plain": [
       "FloatProgress(value=0.0, bar_style='info', description='Progress:', layout=Layout(height='25px', width='50%'),…"
      ]
     },
     "metadata": {},
     "output_type": "display_data"
    },
    {
     "name": "stdout",
     "output_type": "stream",
     "text": [
      "SparkSession available as 'spark'.\n"
     ]
    },
    {
     "data": {
      "text/html": [
       "Current session configs: <tt>{'executorMemory': '2G', 'driverMemory': '1G', 'executorCores': 1, 'numExecutors': 3, 'conf': {'spark.dynamicAllocation.enabled': 'false', 'spark.sql.parquet.enableVectorizedReader': 'false', 'spark.pyspark.python': 'python3', 'spark.pyspark.virtualenv.enabled': 'false', 'spark.pyspark.virtualenv.type': 'native', 'spark.pyspark.virtualenv.bin.path': '/usr/bin/virtualenv'}, 'proxyUser': 'test_G2', 'kind': 'pyspark'}</tt><br>"
      ],
      "text/plain": [
       "<IPython.core.display.HTML object>"
      ]
     },
     "metadata": {},
     "output_type": "display_data"
    },
    {
     "data": {
      "text/html": [
       "<table>\n",
       "<tr><th>ID</th><th>YARN Application ID</th><th>Kind</th><th>State</th><th>Spark UI</th><th>Driver log</th><th>User</th><th>Current session?</th></tr><tr><td>292</td><td>application_1681238170162_0292</td><td>pyspark</td><td>idle</td><td><a target=\"_blank\" href=\"http://ip-10-0-5-145.us-west-2.compute.internal:20888/proxy/application_1681238170162_0292/\">Link</a></td><td><a target=\"_blank\" href=\"http://ip-10-0-5-66.us-west-2.compute.internal:8042/node/containerlogs/container_1681238170162_0292_01_000001/livy\">Link</a></td><td>None</td><td></td></tr><tr><td>312</td><td>application_1681238170162_0312</td><td>pyspark</td><td>idle</td><td><a target=\"_blank\" href=\"http://ip-10-0-5-145.us-west-2.compute.internal:20888/proxy/application_1681238170162_0312/\">Link</a></td><td><a target=\"_blank\" href=\"http://ip-10-0-15-157.us-west-2.compute.internal:8042/node/containerlogs/container_1681238170162_0312_01_000001/livy\">Link</a></td><td>None</td><td></td></tr><tr><td>321</td><td>application_1681238170162_0321</td><td>pyspark</td><td>idle</td><td><a target=\"_blank\" href=\"http://ip-10-0-5-145.us-west-2.compute.internal:20888/proxy/application_1681238170162_0321/\">Link</a></td><td><a target=\"_blank\" href=\"http://ip-10-0-8-95.us-west-2.compute.internal:8042/node/containerlogs/container_1681238170162_0321_01_000002/livy\">Link</a></td><td>None</td><td></td></tr><tr><td>323</td><td>application_1681238170162_0323</td><td>pyspark</td><td>idle</td><td><a target=\"_blank\" href=\"http://ip-10-0-5-145.us-west-2.compute.internal:20888/proxy/application_1681238170162_0323/\">Link</a></td><td><a target=\"_blank\" href=\"http://ip-10-0-8-95.us-west-2.compute.internal:8042/node/containerlogs/container_1681238170162_0323_01_000001/livy\">Link</a></td><td>None</td><td>✔</td></tr></table>"
      ],
      "text/plain": [
       "<IPython.core.display.HTML object>"
      ]
     },
     "metadata": {},
     "output_type": "display_data"
    }
   ],
   "source": [
    "%%configure -f\n",
    "{\"executorMemory\": \"2G\",\"driverMemory\":\"1G\",\"executorCores\": 1,\"numExecutors\": 3, \n",
    " \"conf\": {\"spark.dynamicAllocation.enabled\": \"false\", \n",
    "          \"spark.sql.parquet.enableVectorizedReader\": \"false\", \n",
    "          \"spark.pyspark.python\": \"python3\",\n",
    "          \"spark.pyspark.virtualenv.enabled\": \"false\",\n",
    "          \"spark.pyspark.virtualenv.type\": \"native\",\n",
    "          \"spark.pyspark.virtualenv.bin.path\": \"/usr/bin/virtualenv\"}}"
   ]
  },
  {
   "cell_type": "code",
   "execution_count": 247,
   "id": "3cfdd838-11ab-4dfb-8851-ef3fc3449641",
   "metadata": {
    "id": "3cfdd838-11ab-4dfb-8851-ef3fc3449641",
    "tags": []
   },
   "outputs": [
    {
     "data": {
      "application/vnd.jupyter.widget-view+json": {
       "model_id": "",
       "version_major": 2,
       "version_minor": 0
      },
      "text/plain": [
       "FloatProgress(value=0.0, bar_style='info', description='Progress:', layout=Layout(height='25px', width='50%'),…"
      ]
     },
     "metadata": {},
     "output_type": "display_data"
    }
   ],
   "source": [
    "# Import necessary libraries\n",
    "from pyspark.ml import PipelineModel\n",
    "from pyspark.sql.functions import udf\n",
    "from pyspark.sql.types import StringType\n",
    "#from sparknlp.base import *\n",
    "#from sparknlp.annotator import *\n",
    "from pyspark.ml import Pipeline\n",
    "from pyspark.sql.functions import length"
   ]
  },
  {
   "cell_type": "code",
   "execution_count": 273,
   "id": "8f04be7a-fb36-4713-8f4f-c40bb4f92156",
   "metadata": {
    "id": "8f04be7a-fb36-4713-8f4f-c40bb4f92156",
    "outputId": "6af3cae4-e547-4b24-85cf-492274e712af",
    "tags": []
   },
   "outputs": [
    {
     "data": {
      "application/vnd.jupyter.widget-view+json": {
       "model_id": "",
       "version_major": 2,
       "version_minor": 0
      },
      "text/plain": [
       "FloatProgress(value=0.0, bar_style='info', description='Progress:', layout=Layout(height='25px', width='50%'),…"
      ]
     },
     "metadata": {},
     "output_type": "display_data"
    },
    {
     "name": "stdout",
     "output_type": "stream",
     "text": [
      "+------------+------------+--------+----------+--------------------+-------+--------+---------+\n",
      "|time_created|date_created|up_votes|down_votes|               title|over_18|  author|subreddit|\n",
      "+------------+------------+--------+----------+--------------------+-------+--------+---------+\n",
      "|  1201232046|  2008-01-25|       3|         0|Scores killed in ...|  False|   polar|worldnews|\n",
      "|  1201232075|  2008-01-25|       2|         0|Japan resumes ref...|  False|   polar|worldnews|\n",
      "|  1201232523|  2008-01-25|       3|         0|US presses Egypt ...|  False|   polar|worldnews|\n",
      "|  1201233290|  2008-01-25|       1|         0|Jump-start econom...|  False| fadi420|worldnews|\n",
      "|  1201274720|  2008-01-25|       4|         0|Council of Europe...|  False|mhermans|worldnews|\n",
      "+------------+------------+--------+----------+--------------------+-------+--------+---------+\n",
      "only showing top 5 rows"
     ]
    }
   ],
   "source": [
    "# read a CSV file into a Spark DataFrame\n",
    "df = spark.read.csv(\"s3://msbx5420-spr23/Group_2/reddit_worldnews_start_to_2016-11-22.csv\", header=True, inferSchema=True)\n",
    "\n",
    "df.cache()\n",
    "# show the first few rows of the DataFrame\n",
    "df.show(5)"
   ]
  },
  {
   "cell_type": "code",
   "execution_count": 250,
   "id": "d5adddfc-74f3-4658-91cf-74a5666533b6",
   "metadata": {
    "id": "d5adddfc-74f3-4658-91cf-74a5666533b6",
    "outputId": "7e73e1dc-32ed-46b8-ef6a-89bcb48ef762",
    "tags": []
   },
   "outputs": [
    {
     "data": {
      "application/vnd.jupyter.widget-view+json": {
       "model_id": "",
       "version_major": 2,
       "version_minor": 0
      },
      "text/plain": [
       "FloatProgress(value=0.0, bar_style='info', description='Progress:', layout=Layout(height='25px', width='50%'),…"
      ]
     },
     "metadata": {},
     "output_type": "display_data"
    }
   ],
   "source": [
    "#import nltk\n",
    "#nltk.download('vader_lexicon')\n",
    "import pyspark.sql.functions as F\n",
    "from pyspark.sql.functions import col"
   ]
  },
  {
   "cell_type": "code",
   "execution_count": 251,
   "id": "bg48IPXsUFQt",
   "metadata": {
    "id": "bg48IPXsUFQt"
   },
   "outputs": [
    {
     "data": {
      "application/vnd.jupyter.widget-view+json": {
       "model_id": "",
       "version_major": 2,
       "version_minor": 0
      },
      "text/plain": [
       "FloatProgress(value=0.0, bar_style='info', description='Progress:', layout=Layout(height='25px', width='50%'),…"
      ]
     },
     "metadata": {},
     "output_type": "display_data"
    },
    {
     "name": "stdout",
     "output_type": "stream",
     "text": [
      "+------------+-----+\n",
      "|time_created|count|\n",
      "+------------+-----+\n",
      "|  1415800214|    2|\n",
      "|  1371521658|    2|\n",
      "|  1406022773|    2|\n",
      "|  1386162933|    2|\n",
      "|  1407782198|    2|\n",
      "|  1414496883|    2|\n",
      "|  1411567558|    2|\n",
      "|  1411553994|    2|\n",
      "|  1406800669|    2|\n",
      "|  1369036843|    2|\n",
      "|  1410950940|    2|\n",
      "|  1380303073|    2|\n",
      "|  1391019354|    2|\n",
      "|  1409813706|    2|\n",
      "|  1418134027|    2|\n",
      "|  1399283088|    2|\n",
      "|  1408395545|    2|\n",
      "|  1369331524|    2|\n",
      "|  1391442017|    2|\n",
      "|  1457241470|    2|\n",
      "+------------+-----+\n",
      "only showing top 20 rows"
     ]
    }
   ],
   "source": [
    "#Check for duplicates\n",
    "counts = df.groupby(df.time_created).count()\n",
    "duplicates = counts.filter(col(\"count\") > 1)\n",
    "duplicates.show()"
   ]
  },
  {
   "cell_type": "code",
   "execution_count": 253,
   "id": "DwlAL0vyUFEi",
   "metadata": {
    "id": "DwlAL0vyUFEi"
   },
   "outputs": [
    {
     "data": {
      "application/vnd.jupyter.widget-view+json": {
       "model_id": "",
       "version_major": 2,
       "version_minor": 0
      },
      "text/plain": [
       "FloatProgress(value=0.0, bar_style='info', description='Progress:', layout=Layout(height='25px', width='50%'),…"
      ]
     },
     "metadata": {},
     "output_type": "display_data"
    },
    {
     "name": "stdout",
     "output_type": "stream",
     "text": [
      "+----------------------------+\n",
      "|count(DISTINCT time_created)|\n",
      "+----------------------------+\n",
      "|                      513773|\n",
      "+----------------------------+\n",
      "\n",
      "None\n",
      "+-------------------+\n",
      "|count(time_created)|\n",
      "+-------------------+\n",
      "|             520310|\n",
      "+-------------------+"
     ]
    }
   ],
   "source": [
    "#Count of duplicates\n",
    "df.createOrReplaceTempView(\"data\")\n",
    "print(spark.sql(\"SELECT count(DISTINCT time_created) FROM data\").show())\n",
    "spark.sql(\"SELECT count(time_created) FROM data\").show()"
   ]
  },
  {
   "cell_type": "code",
   "execution_count": 254,
   "id": "zcE4DfBEUfAz",
   "metadata": {
    "id": "zcE4DfBEUfAz"
   },
   "outputs": [
    {
     "data": {
      "application/vnd.jupyter.widget-view+json": {
       "model_id": "",
       "version_major": 2,
       "version_minor": 0
      },
      "text/plain": [
       "FloatProgress(value=0.0, bar_style='info', description='Progress:', layout=Layout(height='25px', width='50%'),…"
      ]
     },
     "metadata": {},
     "output_type": "display_data"
    }
   ],
   "source": [
    "#Create identifier unique_ID\n",
    "from pyspark.sql.functions import monotonically_increasing_id\n",
    "new_df = df.withColumn(\"unique_ID\", monotonically_increasing_id())"
   ]
  },
  {
   "cell_type": "code",
   "execution_count": 255,
   "id": "9r6RVXpGUe0C",
   "metadata": {
    "id": "9r6RVXpGUe0C"
   },
   "outputs": [
    {
     "data": {
      "application/vnd.jupyter.widget-view+json": {
       "model_id": "",
       "version_major": 2,
       "version_minor": 0
      },
      "text/plain": [
       "FloatProgress(value=0.0, bar_style='info', description='Progress:', layout=Layout(height='25px', width='50%'),…"
      ]
     },
     "metadata": {},
     "output_type": "display_data"
    },
    {
     "name": "stdout",
     "output_type": "stream",
     "text": [
      "+------------+------------+--------+----------+--------------------+-------+--------------+---------+---------+\n",
      "|time_created|date_created|up_votes|down_votes|               title|over_18|        author|subreddit|unique_ID|\n",
      "+------------+------------+--------+----------+--------------------+-------+--------------+---------+---------+\n",
      "|  1201232046|  2008-01-25|       3|         0|Scores killed in ...|  False|         polar|worldnews|        0|\n",
      "|  1201232075|  2008-01-25|       2|         0|Japan resumes ref...|  False|         polar|worldnews|        1|\n",
      "|  1201232523|  2008-01-25|       3|         0|US presses Egypt ...|  False|         polar|worldnews|        2|\n",
      "|  1201233290|  2008-01-25|       1|         0|Jump-start econom...|  False|       fadi420|worldnews|        3|\n",
      "|  1201274720|  2008-01-25|       4|         0|Council of Europe...|  False|      mhermans|worldnews|        4|\n",
      "|  1201287889|  2008-01-25|      15|         0|Hay presto! Farme...|  False|Armagedonovich|worldnews|        5|\n",
      "|  1201289438|  2008-01-25|       5|         0|Strikes, Protests...|  False|       Clythos|worldnews|        6|\n",
      "|  1201536662|  2008-01-28|       0|         0|The U.N. Mismanag...|  False|     Moldavite|worldnews|        7|\n",
      "|  1201558396|  2008-01-28|       4|         0|Nicolas Sarkozy t...|  False|     Moldavite|worldnews|        8|\n",
      "|  1201635869|  2008-01-29|       3|         0|US plans for miss...|  False|  JoeyRamone63|worldnews|        9|\n",
      "|  1201701773|  2008-01-30|       4|         0|Archbishop of Can...|  False|    bgholt1970|worldnews|       10|\n",
      "|  1201719875|  2008-01-30|       9|         0|Top US Envoy: Vio...|  False|      smacfarl|worldnews|       11|\n",
      "|  1201722210|  2008-01-30|       1|         0|Team building flo...|  False|         Aerik|worldnews|       12|\n",
      "|  1201765485|  2008-01-31|       1|         0|Migrant workers t...|  False|    markansoul|worldnews|       13|\n",
      "|  1201794451|  2008-01-31|       2|         0| Sarkozy, Girlfri...|  False|     Moldavite|worldnews|       14|\n",
      "|  1201794900|  2008-01-31|       3|         0|Nicolas Sarkozy, ...|  False|     Moldavite|worldnews|       15|\n",
      "|  1201799407|  2008-01-31|       7|         0|Mass Evacuations ...|  False|      smacfarl|worldnews|       16|\n",
      "|  1201802685|  2008-01-31|       3|         0|Poor Haitians Res...|  False|Armagedonovich|worldnews|       17|\n",
      "|  1201834758|  2008-02-01|       0|         0|European Commissi...|  False|     Moldavite|worldnews|       18|\n",
      "|  1201886520|  2008-02-01|       4|         0|Rambo banned in B...|  False|  JoeyRamone63|worldnews|       19|\n",
      "+------------+------------+--------+----------+--------------------+-------+--------------+---------+---------+\n",
      "only showing top 20 rows"
     ]
    }
   ],
   "source": [
    "#Show new_df, which is the original df with unique identifiers\n",
    "new_df.show()"
   ]
  },
  {
   "cell_type": "code",
   "execution_count": 256,
   "id": "VApt_EKhVcMG",
   "metadata": {
    "id": "VApt_EKhVcMG"
   },
   "outputs": [
    {
     "data": {
      "application/vnd.jupyter.widget-view+json": {
       "model_id": "",
       "version_major": 2,
       "version_minor": 0
      },
      "text/plain": [
       "FloatProgress(value=0.0, bar_style='info', description='Progress:', layout=Layout(height='25px', width='50%'),…"
      ]
     },
     "metadata": {},
     "output_type": "display_data"
    }
   ],
   "source": [
    "#Creating a copy of new_df and storing it as df for further analysis\n",
    "df = new_df.alias('df')"
   ]
  },
  {
   "cell_type": "code",
   "execution_count": 258,
   "id": "JdskgpI5Uj_Y",
   "metadata": {
    "id": "JdskgpI5Uj_Y"
   },
   "outputs": [
    {
     "data": {
      "application/vnd.jupyter.widget-view+json": {
       "model_id": "",
       "version_major": 2,
       "version_minor": 0
      },
      "text/plain": [
       "FloatProgress(value=0.0, bar_style='info', description='Progress:', layout=Layout(height='25px', width='50%'),…"
      ]
     },
     "metadata": {},
     "output_type": "display_data"
    },
    {
     "name": "stdout",
     "output_type": "stream",
     "text": [
      "+---------+--------------------+\n",
      "|unique_ID|               title|\n",
      "+---------+--------------------+\n",
      "|        0|Scores killed in ...|\n",
      "|        1|Japan resumes ref...|\n",
      "|        2|US presses Egypt ...|\n",
      "|        3|Jump-start econom...|\n",
      "|        4|Council of Europe...|\n",
      "|        5|Hay presto! Farme...|\n",
      "|        6|Strikes, Protests...|\n",
      "|        7|The U.N. Mismanag...|\n",
      "|        8|Nicolas Sarkozy t...|\n",
      "|        9|US plans for miss...|\n",
      "|       10|Archbishop of Can...|\n",
      "|       11|Top US Envoy: Vio...|\n",
      "|       12|Team building flo...|\n",
      "|       13|Migrant workers t...|\n",
      "|       14| Sarkozy, Girlfri...|\n",
      "|       15|Nicolas Sarkozy, ...|\n",
      "|       16|Mass Evacuations ...|\n",
      "|       17|Poor Haitians Res...|\n",
      "|       18|European Commissi...|\n",
      "|       19|Rambo banned in B...|\n",
      "+---------+--------------------+\n",
      "only showing top 20 rows"
     ]
    }
   ],
   "source": [
    "#Isolate relevant columns into new DF\n",
    "new_new_df = new_df.select(\"unique_ID\",\"title\")\n",
    "new_new_df.show()"
   ]
  },
  {
   "cell_type": "code",
   "execution_count": 259,
   "id": "Sc17xiXkUjuf",
   "metadata": {
    "id": "Sc17xiXkUjuf"
   },
   "outputs": [
    {
     "data": {
      "application/vnd.jupyter.widget-view+json": {
       "model_id": "",
       "version_major": 2,
       "version_minor": 0
      },
      "text/plain": [
       "FloatProgress(value=0.0, bar_style='info', description='Progress:', layout=Layout(height='25px', width='50%'),…"
      ]
     },
     "metadata": {},
     "output_type": "display_data"
    }
   ],
   "source": [
    "sc.addFile(\"s3://msbx5420-spr23/class/nltk_data/\", True)"
   ]
  },
  {
   "cell_type": "code",
   "execution_count": 260,
   "id": "e89b7e7e-33e3-4b77-b336-a67b5d453f24",
   "metadata": {
    "id": "e89b7e7e-33e3-4b77-b336-a67b5d453f24",
    "outputId": "a297c7ae-b74a-4a8c-c3bc-80e5fff8d5fa",
    "tags": []
   },
   "outputs": [
    {
     "data": {
      "application/vnd.jupyter.widget-view+json": {
       "model_id": "",
       "version_major": 2,
       "version_minor": 0
      },
      "text/plain": [
       "FloatProgress(value=0.0, bar_style='info', description='Progress:', layout=Layout(height='25px', width='50%'),…"
      ]
     },
     "metadata": {},
     "output_type": "display_data"
    },
    {
     "name": "stdout",
     "output_type": "stream",
     "text": [
      "+------------+------------+--------+----------+--------------------+-------+--------------+---------+---------+---------------+\n",
      "|time_created|date_created|up_votes|down_votes|               title|over_18|        author|subreddit|unique_ID|title_sentiment|\n",
      "+------------+------------+--------+----------+--------------------+-------+--------------+---------+---------+---------------+\n",
      "|  1201232046|  2008-01-25|       3|         0|Scores killed in ...|  False|         polar|worldnews|        0|       Negative|\n",
      "|  1201232075|  2008-01-25|       2|         0|Japan resumes ref...|  False|         polar|worldnews|        1|        Neutral|\n",
      "|  1201232523|  2008-01-25|       3|         0|US presses Egypt ...|  False|         polar|worldnews|        2|        Neutral|\n",
      "|  1201233290|  2008-01-25|       1|         0|Jump-start econom...|  False|       fadi420|worldnews|        3|       Positive|\n",
      "|  1201274720|  2008-01-25|       4|         0|Council of Europe...|  False|      mhermans|worldnews|        4|       Negative|\n",
      "|  1201287889|  2008-01-25|      15|         0|Hay presto! Farme...|  False|Armagedonovich|worldnews|        5|       Negative|\n",
      "|  1201289438|  2008-01-25|       5|         0|Strikes, Protests...|  False|       Clythos|worldnews|        6|       Negative|\n",
      "|  1201536662|  2008-01-28|       0|         0|The U.N. Mismanag...|  False|     Moldavite|worldnews|        7|        Neutral|\n",
      "|  1201558396|  2008-01-28|       4|         0|Nicolas Sarkozy t...|  False|     Moldavite|worldnews|        8|       Negative|\n",
      "|  1201635869|  2008-01-29|       3|         0|US plans for miss...|  False|  JoeyRamone63|worldnews|        9|        Neutral|\n",
      "|  1201701773|  2008-01-30|       4|         0|Archbishop of Can...|  False|    bgholt1970|worldnews|       10|       Negative|\n",
      "|  1201719875|  2008-01-30|       9|         0|Top US Envoy: Vio...|  False|      smacfarl|worldnews|       11|       Negative|\n",
      "|  1201722210|  2008-01-30|       1|         0|Team building flo...|  False|         Aerik|worldnews|       12|       Negative|\n",
      "|  1201765485|  2008-01-31|       1|         0|Migrant workers t...|  False|    markansoul|worldnews|       13|       Negative|\n",
      "|  1201794451|  2008-01-31|       2|         0| Sarkozy, Girlfri...|  False|     Moldavite|worldnews|       14|        Neutral|\n",
      "|  1201794900|  2008-01-31|       3|         0|Nicolas Sarkozy, ...|  False|     Moldavite|worldnews|       15|        Neutral|\n",
      "|  1201799407|  2008-01-31|       7|         0|Mass Evacuations ...|  False|      smacfarl|worldnews|       16|        Neutral|\n",
      "|  1201802685|  2008-01-31|       3|         0|Poor Haitians Res...|  False|Armagedonovich|worldnews|       17|       Negative|\n",
      "|  1201834758|  2008-02-01|       0|         0|European Commissi...|  False|     Moldavite|worldnews|       18|        Neutral|\n",
      "|  1201886520|  2008-02-01|       4|         0|Rambo banned in B...|  False|  JoeyRamone63|worldnews|       19|       Negative|\n",
      "+------------+------------+--------+----------+--------------------+-------+--------------+---------+---------+---------------+\n",
      "only showing top 20 rows"
     ]
    }
   ],
   "source": [
    "import nltk\n",
    "from pyspark import SparkFiles\n",
    "from nltk.sentiment import SentimentIntensityAnalyzer\n",
    "\n",
    "\n",
    "# Define a UDF to find the sentiment of a title\n",
    "def find_sentiment(title):\n",
    "    nltk.data.path.append(SparkFiles.getRootDirectory() + '/nltk_data')\n",
    "    \n",
    "    # Create a SentimentIntensityAnalyzer object\n",
    "    sia = SentimentIntensityAnalyzer()\n",
    "\n",
    "    if title is None:\n",
    "        return \"Neutral\"\n",
    "    if sia.polarity_scores(title)[\"compound\"] > 0:\n",
    "        return \"Positive\"\n",
    "    elif sia.polarity_scores(title)[\"compound\"] < 0:\n",
    "        return \"Negative\"\n",
    "    else:\n",
    "        return \"Neutral\"\n",
    "\n",
    "# Register the UDF\n",
    "find_sentiment_udf = udf(find_sentiment, StringType())\n",
    "\n",
    "# Add a new column \"title_sentiment\" to the existing DataFrame \"df\"\n",
    "df = df.withColumn(\"title_sentiment\", find_sentiment_udf(\"title\"))\n",
    "\n",
    "df.cache()\n",
    "\n",
    "# Show the result\n",
    "df.show()\n"
   ]
  },
  {
   "cell_type": "code",
   "execution_count": 275,
   "id": "4052bef4-96e6-4cd9-8dfe-9fbeb9216ef1",
   "metadata": {
    "id": "4052bef4-96e6-4cd9-8dfe-9fbeb9216ef1",
    "tags": []
   },
   "outputs": [
    {
     "data": {
      "application/vnd.jupyter.widget-view+json": {
       "model_id": "",
       "version_major": 2,
       "version_minor": 0
      },
      "text/plain": [
       "FloatProgress(value=0.0, bar_style='info', description='Progress:', layout=Layout(height='25px', width='50%'),…"
      ]
     },
     "metadata": {},
     "output_type": "display_data"
    }
   ],
   "source": [
    "from wordcloud import WordCloud\n",
    "import matplotlib.pyplot as plt\n",
    "\n",
    "# Create three different DataFrames based on the sentiment values\n",
    "df_positive = df.filter(df.title_sentiment == 'Positive')\n",
    "df_negative = df.filter(df.title_sentiment == 'Negative')\n",
    "df_neutral = df.filter((df.title_sentiment == 'Neutral') & (df.title.isNotNull())) \n",
    "\n",
    "# Concatenate the titles from each DataFrame into three separate strings\n",
    "positive_titles = ' '.join(df_positive.select('title').rdd.flatMap(lambda x: x).collect())\n",
    "negative_titles = ' '.join(df_negative.select('title').rdd.flatMap(lambda x: x).collect())\n",
    "neutral_titles = ' '.join(df_neutral.select('title').rdd.flatMap(lambda x: x).collect())\n"
   ]
  },
  {
   "cell_type": "code",
   "execution_count": null,
   "id": "e88a7f33",
   "metadata": {},
   "outputs": [],
   "source": [
    "#To exclude countries and nationalities\n",
    "# Define lists of countries and nationalities\n",
    "countries = ['Afghanistan', 'Aland Islands', 'Albania', 'Algeria', 'American Samoa', 'Andorra', 'Angola', 'Anguilla', 'Antarctica', 'Antigua and Barbuda', 'Argentina', 'Armenia', 'Aruba', 'Australia', 'Austria', 'Azerbaijan', 'Bahamas', 'Bahrain', 'Bangladesh', 'Barbados', 'Belarus', 'Belgium', 'Belize', 'Benin', 'Bermuda', 'Bhutan', 'Bolivia, Plurinational State of', 'Bonaire, Sint Eustatius and Saba', 'Bosnia and Herzegovina', 'Botswana', 'Bouvet Island', 'Brazil', 'British Indian Ocean Territory', 'Brunei Darussalam', 'Bulgaria', 'Burkina Faso', 'Burundi', 'Cambodia', 'Cameroon', 'Canada', 'Cape Verde', 'Cayman Islands', 'Central African Republic', 'Chad', 'Chile', 'China', 'Christmas Island', 'Cocos (Keeling) Islands', 'Colombia', 'Comoros', 'Congo', 'Congo, The Democratic Republic of the', 'Cook Islands', 'Costa Rica', \"Côte d'Ivoire\", 'Croatia', 'Cuba', 'Curaçao', 'Cyprus', 'Czech Republic', 'Denmark', 'Djibouti', 'Dominica', 'Dominican Republic', 'Ecuador', 'Egypt', 'El Salvador', 'Equatorial Guinea', 'Eritrea', 'Estonia', 'Ethiopia', 'Falkland Islands (Malvinas)', 'Faroe Islands', 'Fiji', 'Finland', 'France', 'French Guiana', 'French Polynesia', 'French Southern Territories', 'Gabon', 'Gambia', 'Georgia', 'Germany', 'Ghana', 'Gibraltar', 'Greece', 'Greenland', 'Grenada', 'Guadeloupe', 'Guam', 'Guatemala', 'Guernsey', 'Guinea', 'Guinea-Bissau', 'Guyana', 'Haiti', 'Heard Island and McDonald Islands', 'Holy See (Vatican City State)', 'Honduras', 'Hong Kong', 'Hungary', 'Iceland', 'India', 'Indonesia', 'Iran, Islamic Republic of', 'Iraq', 'Ireland', 'Isle of Man', 'Israel', 'Italy', 'Jamaica', 'Japan', 'Jersey', 'Jordan', 'Kazakhstan', 'Kenya', 'Kiribati', \"Korea, Democratic People's Republic of\", 'Korea, Republic of', 'Kuwait', 'Kyrgyzstan', \"Lao People's Democratic Republic\", 'Latvia', 'Lebanon', 'Lesotho', 'Liberia', 'Libya', 'Liechtenstein', 'Lithuania', 'Luxembourg', 'Macao', 'Macedonia, Republic of', 'Madagascar', 'Malawi', 'Malaysia', 'Maldives', 'Mali', 'Malta', 'Marshall Islands', 'Martinique', 'Mauritania', 'Mauritius', 'Mayotte', 'Mexico', 'Micronesia, Federated States of', 'Moldova, Republic of', 'Monaco', 'Mongolia', 'Montenegro', 'Montserrat', 'Morocco', 'Mozambique', 'Myanmar', 'Namibia', 'Nauru', 'Nepal', 'Netherlands', 'New Caledonia', 'New Zealand', 'Nicaragua', 'Niger', 'Nigeria', 'Niue', 'Norfolk Island', 'Northern Mariana Islands', 'Norway', 'Oman', 'Pakistan', 'Palau', 'Palestinian Territory, Occupied', 'Panama', 'Papua New Guinea', 'Paraguay', 'Peru', 'Philippines', 'Pitcairn', 'Poland', 'Portugal', 'Puerto Rico', 'Qatar', 'Réunion', 'Romania', 'Russian Federation', 'Rwanda', 'Saint Barthélemy', 'Saint Helena, Ascension and Tristan da Cunha', 'Saint Kitts and Nevis', 'Saint Lucia', 'Saint Martin (French part)', 'Saint Pierre and Miquelon', 'Saint Vincent and the Grenadines', 'Samoa', 'San Marino', 'Sao Tome and Principe', 'Saudi Arabia', 'Senegal', 'Serbia', 'Seychelles', 'Sierra Leone', 'Singapore', 'Sint Maarten (Dutch part)', 'Slovakia', 'Slovenia', 'Solomon Islands', 'Somalia', 'South Africa', 'South Georgia and the South Sandwich Islands', 'Spain', 'Sri Lanka', 'Sudan', 'Suriname', 'South Sudan', 'Svalbard and Jan Mayen', 'Swaziland', 'Sweden', 'Switzerland', 'Syrian Arab Republic', 'Taiwan, Province of China', 'Tajikistan', 'Tanzania, United Republic of', 'Thailand', 'Timor-Leste', 'Togo', 'Tokelau', 'Tonga', 'Trinidad and Tobago', 'Tunisia', 'Turkey', 'Turkmenistan', 'Turks and Caicos Islands', 'Tuvalu', 'Uganda', 'Ukraine', 'United Arab Emirates', 'United Kingdom', 'United States', 'United States Minor Outlying Islands', 'Uruguay', 'Uzbekistan', 'Vanuatu', 'Venezuela, Bolivarian Republic of', 'Viet Nam', 'Virgin Islands, British', 'Virgin Islands, U.S.', 'Wallis and Futuna', 'Yemen', 'Zambia', 'Zimbabwe', 'Islamic State']\n",
    "\n",
    "nationalities = ['Afghan', 'Albanian', 'Algerian', 'American', 'Andorran', 'Angolan', 'Antiguans', 'Argentinean', 'Armenian', 'Australian', 'Austrian', 'Azerbaijani', 'Bahamian', 'Bahraini', 'Bangladeshi', 'Barbadian', 'Barbudans', 'Batswana', 'Belarusian', 'Belgian', 'Belizean', 'Beninese', 'Bhutanese', 'Bolivian', 'Bosnian', 'Brazilian', 'British', 'Bruneian', 'Bulgarian', 'Burkinabe', 'Burmese', 'Burundian', 'Cambodian', 'Cameroonian', 'Canadian', 'Cape Verdean', 'Central African', 'Chadian', 'Chilean', 'Chinese', 'Colombian', 'Comoran',  'Congolese', 'Costa Rican', 'Croatian', 'Cuban', 'Cypriot', 'Czech', 'Danish', 'Djibouti', 'Dominican', 'Dutch', 'Dutchman', 'Dutchwoman', 'East Timorese', 'Ecuadorean', 'Egyptian', 'Emirian', 'Equatorial Guinean', 'Eritrean', 'Estonian', 'Ethiopian', 'Fijian', 'Filipino', 'Finnish', 'French', 'Gabonese', 'Gambian', 'Georgian', 'German', 'Ghanaian', 'Greek', 'Grenadian', 'Guatemalan', 'Guinea-Bissauan', 'Guinean', 'Guyanese', 'Haitian', 'Herzegovinian', 'Honduran', 'Hungarian', 'I-Kiribati', 'Icelander', 'Indian', 'Indonesian', 'Iranian', 'Iraqi', 'Irish', 'Israeli', 'Italian', 'Ivorian', 'Jamaican', 'Japanese', 'Jordanian', 'Kazakhstani', 'Kenyan', 'Kittian and Nevisian', 'Kuwaiti', 'Kyrgyz', 'Laotian', 'Latvian', 'Lebanese', 'Liberian', 'Libyan', 'Liechtensteiner', 'Lithuanian', 'Luxembourger', 'Macedonian', 'Malagasy', 'Malawian', 'Malaysian', 'Maldivan', 'Malian', 'Maltese', 'Marshallese', 'Mauritanian', 'Mauritian', 'Mexican', 'Micronesian', 'Moldovan', 'Monacan', 'Mongolian', 'Moroccan', 'Mosotho', 'Motswana', 'Mozambican', 'Namibian', 'Nauruan', 'Nepalese', 'Netherlander', 'New Zealander', 'Ni-Vanuatu', 'Nicaraguan', 'Nigerian', 'Nigerien', 'North Korean', 'Northern Irish', 'Norwegian', 'Omani', 'Pakistani', 'Palauan', 'Panamanian', 'Papua New Guinean', 'Paraguayan', 'Peruvian', 'Polish', 'Portuguese', 'Qatari', 'Romanian', 'Russian', 'Rwandan', 'Saint Lucian', 'Salvadoran', 'Samoan', 'San Marinese', 'Sao Tomean', 'Saudi', 'Scottish', 'Senegalese', 'Serbian', 'Seychellois', 'Sierra Leonean', 'Singaporean', 'Slovakian', 'Slovenian', 'Solomon Islander', 'Somali', 'South African', 'South Korean', 'Spanish', 'Sri Lankan', 'Sudanese', 'Surinamer', 'Swazi', 'Swedish', 'Swiss', 'Syrian', 'Taiwanese', 'Tajik', 'Tanzanian', 'Thai', 'Togolese', 'Tongan', 'Trinidadian or Tobagonian', 'Tunisian', 'Turkish', 'Tuvaluan', 'Ugandan', 'Ukrainian', 'Uruguayan', 'Uzbekistani', 'Venezuelan', 'Vietnamese', 'Welsh', 'Yemenite', 'Zambian', 'Zimbabwean']\n",
    "\n",
    "\n",
    "# Filter out countries and nationalities from each string\n",
    "for word_list in [countries, nationalities]:\n",
    "    for word in word_list:\n",
    "        positive_titles = positive_titles.replace(word, '')\n",
    "        negative_titles = negative_titles.replace(word, '')\n",
    "        neutral_titles = neutral_titles.replace(word, '')\n"
   ]
  },
  {
   "cell_type": "code",
   "execution_count": null,
   "id": "ebd25fd9-ef0e-41e2-bc68-2e4f252b0066",
   "metadata": {
    "id": "ebd25fd9-ef0e-41e2-bc68-2e4f252b0066",
    "tags": []
   },
   "outputs": [],
   "source": [
    "# Generate word clouds for each sentiment category\n",
    "wordcloud_positive = WordCloud(width = 800, height = 800,background_color=\"white\", min_font_size = 10).generate(positive_titles)\n",
    "wordcloud_negative = WordCloud(width = 800, height = 800,background_color=\"white\", min_font_size = 10).generate(negative_titles)\n",
    "wordcloud_neutral = WordCloud(width = 800, height = 800,background_color=\"white\", min_font_size = 10).generate(neutral_titles)"
   ]
  },
  {
   "cell_type": "markdown",
   "id": "VP9EHR8-WqCS",
   "metadata": {
    "id": "VP9EHR8-WqCS"
   },
   "source": [
    "Word Cloud for Positive Sentiment"
   ]
  },
  {
   "cell_type": "code",
   "execution_count": null,
   "id": "9ecc3ea1-6922-41f5-8b39-57aaf117e694",
   "metadata": {
    "id": "9ecc3ea1-6922-41f5-8b39-57aaf117e694",
    "outputId": "4e6ab031-9f75-4d78-d549-3d69f06d2f40",
    "tags": []
   },
   "outputs": [],
   "source": [
    "# Display the word cloud for positive sentiment\n",
    "plt.figure(figsize = (8, 8), facecolor = None)\n",
    "plt.imshow(wordcloud_positive, interpolation='bilinear')\n",
    "plt.axis(\"off\")\n",
    "plt.tight_layout(pad = 0)\n",
    "plt.title(\"Positive Sentiments\")\n",
    "plt.show()\n"
   ]
  },
  {
   "cell_type": "markdown",
   "id": "CM9WScC4WtMV",
   "metadata": {
    "id": "CM9WScC4WtMV"
   },
   "source": [
    "Word Cloud for Negative Sentiment"
   ]
  },
  {
   "cell_type": "code",
   "execution_count": null,
   "id": "556b5f2d-8d6a-4060-be10-be6f29492a8d",
   "metadata": {
    "id": "556b5f2d-8d6a-4060-be10-be6f29492a8d",
    "outputId": "2e46e229-9788-4153-efc7-3f757ea139a1",
    "tags": []
   },
   "outputs": [],
   "source": [
    "# Display the word cloud for negative sentiment\n",
    "plt.figure(figsize = (8, 8), facecolor = None)\n",
    "plt.imshow(wordcloud_negative, interpolation='bilinear')\n",
    "plt.axis(\"off\")\n",
    "plt.title(\"Negative Sentiments\")\n",
    "plt.tight_layout(pad = 0)\n",
    "plt.show()"
   ]
  },
  {
   "cell_type": "markdown",
   "id": "k-qLxQn_Wvnm",
   "metadata": {
    "id": "k-qLxQn_Wvnm"
   },
   "source": [
    "Word Cloud for Neutral Sentiment"
   ]
  },
  {
   "cell_type": "code",
   "execution_count": null,
   "id": "f138b6aa-6266-444e-b754-ce7005631ffa",
   "metadata": {
    "id": "f138b6aa-6266-444e-b754-ce7005631ffa",
    "outputId": "5d93bdf1-f871-4d3f-9dd4-76dfb7eaafe8",
    "tags": []
   },
   "outputs": [],
   "source": [
    "# Display the word cloud for neutral sentiment\n",
    "plt.figure(figsize = (8, 8), facecolor = None)\n",
    "plt.imshow(wordcloud_neutral, interpolation='bilinear')\n",
    "plt.axis(\"off\")\n",
    "plt.title(\"Neutral Sentiments\")\n",
    "plt.tight_layout(pad = 0)\n",
    "plt.show()"
   ]
  },
  {
   "cell_type": "code",
   "execution_count": null,
   "id": "c868e52d-fd8e-4c23-b4c0-56c8d9809248",
   "metadata": {
    "id": "c868e52d-fd8e-4c23-b4c0-56c8d9809248",
    "tags": []
   },
   "outputs": [],
   "source": []
  },
  {
   "cell_type": "code",
   "execution_count": null,
   "id": "7aa149df-3227-46ca-bdff-63058ba6107d",
   "metadata": {
    "id": "7aa149df-3227-46ca-bdff-63058ba6107d"
   },
   "outputs": [],
   "source": []
  },
  {
   "cell_type": "code",
   "execution_count": null,
   "id": "01a41ee5-39b1-44d3-994b-f1cc6d2ba0cc",
   "metadata": {
    "id": "01a41ee5-39b1-44d3-994b-f1cc6d2ba0cc",
    "tags": []
   },
   "outputs": [],
   "source": []
  },
  {
   "cell_type": "code",
   "execution_count": null,
   "id": "19143ed7-da77-4f06-970c-9dc8888440c8",
   "metadata": {
    "id": "19143ed7-da77-4f06-970c-9dc8888440c8",
    "tags": []
   },
   "outputs": [],
   "source": []
  }
 ],
 "metadata": {
  "colab": {
   "provenance": []
  },
  "kernelspec": {
   "display_name": "Python 3 (ipykernel)",
   "language": "python",
   "name": "python3"
  },
  "language_info": {
   "codemirror_mode": {
    "name": "ipython",
    "version": 3
   },
   "file_extension": ".py",
   "mimetype": "text/x-python",
   "name": "python",
   "nbconvert_exporter": "python",
   "pygments_lexer": "ipython3",
   "version": "3.9.13"
  }
 },
 "nbformat": 4,
 "nbformat_minor": 5
}
